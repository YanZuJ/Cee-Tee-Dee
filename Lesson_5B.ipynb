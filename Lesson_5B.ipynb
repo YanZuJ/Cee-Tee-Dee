{
 "cells": [
  {
   "cell_type": "markdown",
   "metadata": {
    "colab_type": "text",
    "deletable": false,
    "editable": false,
    "id": "1hVEGotd1HQG",
    "nbgrader": {
     "grade": false,
     "locked": true,
     "solution": false
    }
   },
   "source": [
    "### 10.014 Computational Thinking For Design, Fall 2022\n",
    "\n",
    "## Problem Set 5B\n",
    "\n",
    "© Singapore University of Technology and Design, 2022"
   ]
  },
  {
   "cell_type": "markdown",
   "metadata": {
    "deletable": false,
    "editable": false,
    "nbgrader": {
     "grade": false,
     "locked": true,
     "solution": false
    }
   },
   "source": [
    "### Lesson Material For This Problem Set \n",
    "\n",
    "Material for [Lesson 5](https://colab.research.google.com/drive/1Au_BRanTY6QICnZShXp-xX4jtNf4VXhw?usp=sharing)"
   ]
  },
  {
   "cell_type": "markdown",
   "metadata": {
    "colab_type": "text",
    "deletable": false,
    "editable": false,
    "id": "yaB8Tptqkbdy",
    "nbgrader": {
     "grade": false,
     "locked": true,
     "solution": false
    }
   },
   "source": [
    "### Problem 5.11 ```increase_value(dd,k)```"
   ]
  },
  {
   "cell_type": "markdown",
   "metadata": {
    "colab_type": "text",
    "deletable": false,
    "editable": false,
    "id": "Kdwd_cFj1KOI",
    "nbgrader": {
     "grade": false,
     "locked": true,
     "solution": false
    }
   },
   "source": [
    "\n",
    "The function takes in a dictionary ```dd``` and a key ```k```. The corresponding value of each key is an integer.\n",
    "\n",
    "If ```k``` exists as a key\n",
    "- increase the corresponding value by one.\n",
    "- else, nothing happens to ```dd```\n",
    "\n",
    "Note that ```dd``` is modified in-place. \n",
    "\n",
    "**sample test cases**\n",
    "```python \n",
    "dd1 = {1:2, 2:3}\n",
    "key = 2\n",
    "increase_value(dd1, key)\n",
    "print(dd1)\n",
    "\n",
    "dd2 = {7:10, 8:40}\n",
    "key = 3\n",
    "increase_value(dd2, key)\n",
    "print(dd2)\n",
    "```\n",
    "\n",
    "**expected output**\n",
    "```python\n",
    "{1:2, 2:4}\n",
    "{7:10, 8:40}\n",
    "```\n",
    "\n"
   ]
  },
  {
   "cell_type": "markdown",
   "metadata": {
    "deletable": false,
    "editable": false,
    "nbgrader": {
     "grade": false,
     "locked": true,
     "solution": false
    }
   },
   "source": [
    "#### Your solution here: "
   ]
  },
  {
   "cell_type": "code",
   "execution_count": 6,
   "metadata": {
    "nbgrader": {
     "grade": false,
     "grade_id": "5.02test1",
     "locked": false,
     "points": "2",
     "solution": false
    }
   },
   "outputs": [
    {
     "name": "stdout",
     "output_type": "stream",
     "text": [
      "{7: 10, 8: 40}\n"
     ]
    }
   ],
   "source": [
    "def increase_value(sample_dict,key):\n",
    "    for keys in sample_dict:\n",
    "        if keys == key:\n",
    "              sample_dict[key] += 1\n",
    "    return sample_dict"
   ]
  },
  {
   "cell_type": "code",
   "execution_count": null,
   "metadata": {
    "collapsed": true,
    "deletable": false,
    "editable": false,
    "nbgrader": {
     "grade": true,
     "grade_id": "5.11test1",
     "locked": true,
     "points": "1",
     "solution": false
    }
   },
   "outputs": [],
   "source": [
    "###\n",
    "### AUTOGRADER TEST - DO NOT REMOVE\n",
    "###\n"
   ]
  },
  {
   "cell_type": "code",
   "execution_count": null,
   "metadata": {
    "collapsed": true,
    "deletable": false,
    "editable": false,
    "nbgrader": {
     "grade": true,
     "grade_id": "5.11test2",
     "locked": true,
     "points": "1",
     "solution": false
    }
   },
   "outputs": [],
   "source": [
    "###\n",
    "### AUTOGRADER TEST - DO NOT REMOVE\n",
    "###\n"
   ]
  },
  {
   "cell_type": "markdown",
   "metadata": {
    "colab_type": "text",
    "deletable": false,
    "editable": false,
    "id": "JlcXn0StlNL8",
    "nbgrader": {
     "grade": false,
     "locked": true,
     "solution": false
    }
   },
   "source": [
    "### Problem 5.12a  ```translate_point(dd, key, vector )```"
   ]
  },
  {
   "cell_type": "markdown",
   "metadata": {
    "colab_type": "text",
    "deletable": false,
    "editable": false,
    "id": "tYLYZPx75LRS",
    "nbgrader": {
     "grade": false,
     "locked": true,
     "solution": false
    }
   },
   "source": [
    "A dictionary ```dd``` has the following format: \n",
    "\n",
    "```python\n",
    "dd = {'A': (1,2), 'B': (-3,4), 'C': (-1,2)}\n",
    "```\n",
    "\n",
    "Each key-value pair represents a point in 2-D space. The key is the label of the point, and the associated value is a tuple containing the coordinates of the point. \n",
    "\n",
    "```dd``` represents the vertices in a triangle. Assume that the points are not collinear, and there are always three key-value pairs in the dictionary.  \n",
    "\n",
    "This function takes in ```dd```, a key ```key``` and a translation vector ```vector```.\n",
    "\n",
    "You are guaranteed that ```vector``` is a tuple with two elements.\n",
    "\n",
    "If ```key``` exists in ```dd```\n",
    "- **modify the corresponding value in-place** by applying the translation vector to the point, thus changing its position. \n",
    "- else, do nothing\n",
    "\n",
    "**sample test cases**\n",
    "```python\n",
    "dd = {'A': (1,2), 'B': (-3,4), 'C': (-1,2)}\n",
    "key = 'A'\n",
    "vector = (3, 2)\n",
    "translate_point(dd, key, vector)\n",
    "print(dd)\n",
    "\n",
    "dd2 = {'F': (1,2), 'G': (-3,4), 'H': (-1,2)}\n",
    "key = 'D'\n",
    "vector = (3, 2)\n",
    "translate_point(dd2, key, vector)\n",
    "print(dd2)\n",
    "```\n",
    "\n",
    "**expected output**\n",
    "```python\n",
    "{'A': (4,4), 'B': (-3,4), 'C': (-1,2)}\n",
    "{'F': (1,2), 'G': (-3,4), 'H': (-1,2)}\n",
    "```\n"
   ]
  },
  {
   "cell_type": "markdown",
   "metadata": {
    "deletable": false,
    "editable": false,
    "nbgrader": {
     "grade": false,
     "locked": true,
     "solution": false
    }
   },
   "source": [
    "#### Your solution here: "
   ]
  },
  {
   "cell_type": "code",
   "execution_count": 8,
   "metadata": {},
   "outputs": [
    {
     "name": "stdout",
     "output_type": "stream",
     "text": [
      "{'A': (4, 4), 'B': (-3, 4), 'C': (-1, 2)}\n",
      "{'F': (1, 2), 'G': (-3, 4), 'H': (-1, 2)}\n"
     ]
    }
   ],
   "source": [
    "def translate_point(dd,key,vector):\n",
    "    if key in dd:\n",
    "        x = list(dd[key])\n",
    "        tv =  list(vector)\n",
    "        x[0] += tv[0]\n",
    "        x[1] += tv[1]\n",
    "        dd[key] = tuple(x)\n",
    "        return dd"
   ]
  },
  {
   "cell_type": "code",
   "execution_count": null,
   "metadata": {
    "collapsed": true,
    "deletable": false,
    "editable": false,
    "nbgrader": {
     "grade": true,
     "grade_id": "5.12test1",
     "locked": true,
     "points": "1",
     "solution": false
    }
   },
   "outputs": [],
   "source": [
    "###\n",
    "### AUTOGRADER TEST - DO NOT REMOVE\n",
    "###\n"
   ]
  },
  {
   "cell_type": "code",
   "execution_count": null,
   "metadata": {
    "collapsed": true,
    "deletable": false,
    "editable": false,
    "nbgrader": {
     "grade": true,
     "grade_id": "5.12test2",
     "locked": true,
     "points": "1",
     "solution": false
    }
   },
   "outputs": [],
   "source": [
    "###\n",
    "### AUTOGRADER TEST - DO NOT REMOVE\n",
    "###\n"
   ]
  },
  {
   "cell_type": "markdown",
   "metadata": {
    "colab_type": "text",
    "deletable": false,
    "editable": false,
    "id": "JlcXn0StlNL8",
    "nbgrader": {
     "grade": false,
     "locked": true,
     "solution": false
    }
   },
   "source": [
    "### Problem 5.12b  ```translate_point_new(dd, key, vector )```"
   ]
  },
  {
   "cell_type": "markdown",
   "metadata": {
    "colab_type": "text",
    "deletable": false,
    "editable": false,
    "id": "tYLYZPx75LRS",
    "nbgrader": {
     "grade": false,
     "locked": true,
     "solution": false
    }
   },
   "source": [
    "A dictionary ```dd``` has the following format: \n",
    "\n",
    "```python\n",
    "dd = {'A': (1,2), 'B': (-3,4), 'C': (-1,2)}\n",
    "```\n",
    "\n",
    "Each key-value pair represents a point in 2-D space. The key is the label of the point, and the associated value is a tuple containing the coordinates of the point. \n",
    "\n",
    "```dd``` represents the vertices in a triangle. Assume that the points are not collinear, and there are always three key-value pairs in the dictionary.  \n",
    "\n",
    "This function takes in ```dd```, a key ```key``` and a translation vector ```vector```.\n",
    "\n",
    "You are guaranteed that ```vector``` is a tuple with two elements.\n",
    "\n",
    "This function always returns a copy of ```dd```.\n",
    "\n",
    "---\n",
    "**ALGORITHM**\n",
    "\n",
    "1. ```dd_out``` is a copy of ```dd```\n",
    "\n",
    "2. If ```key``` exists in ```dd_out```, modify the corresponding value by applying ```vector``` to it\n",
    "3. return ```dd_out```\n",
    "\n",
    "--- \n",
    "\n",
    "**sample test cases**\n",
    "```python\n",
    "dd = {'A': (1,2), 'B': (-3,4), 'C': (-1,2)}\n",
    "key = 'A'\n",
    "vector = (3, 2)\n",
    "d_new = translate_point_new(dd, key, vector)\n",
    "print(dd)\n",
    "print(d_new)\n",
    "print(dd is d_new)\n",
    "```\n",
    "\n",
    "**expected output**\n",
    "```python\n",
    "{'A': (1, 2), 'B': (-3, 4), 'C': (-1, 2)}\n",
    "{'A': (4, 4), 'B': (-3, 4), 'C': (-1, 2)}\n",
    "False\n",
    "```\n"
   ]
  },
  {
   "cell_type": "markdown",
   "metadata": {
    "deletable": false,
    "editable": false,
    "nbgrader": {
     "grade": false,
     "locked": true,
     "solution": false
    }
   },
   "source": [
    "#### Your solution here: "
   ]
  },
  {
   "cell_type": "code",
   "execution_count": 13,
   "metadata": {},
   "outputs": [],
   "source": [
    "def translate_point(dd,key,vector):\n",
    "    if key in dd:\n",
    "        x = list(dd[key])\n",
    "        tv =  list(vector)\n",
    "        x[0] += tv[0]\n",
    "        x[1] += tv[1]\n",
    "        dd[key] = tuple(x)\n",
    "        return dd\n",
    "\n",
    "def translate_point_new(dd,key,vector):\n",
    "    dd_out = dd.copy()\n",
    "    translate_point(dd_out,key,vector)\n",
    "    return dd_out"
   ]
  },
  {
   "cell_type": "code",
   "execution_count": null,
   "metadata": {
    "collapsed": true,
    "deletable": false,
    "editable": false,
    "nbgrader": {
     "grade": true,
     "grade_id": "5.12test3",
     "locked": true,
     "points": "1",
     "solution": false
    }
   },
   "outputs": [],
   "source": [
    "###\n",
    "### AUTOGRADER TEST - DO NOT REMOVE\n",
    "###\n"
   ]
  },
  {
   "cell_type": "code",
   "execution_count": null,
   "metadata": {
    "collapsed": true,
    "deletable": false,
    "editable": false,
    "nbgrader": {
     "grade": true,
     "grade_id": "5.12test4",
     "locked": true,
     "points": "1",
     "solution": false
    }
   },
   "outputs": [],
   "source": [
    "###\n",
    "### AUTOGRADER TEST - DO NOT REMOVE\n",
    "###\n"
   ]
  },
  {
   "cell_type": "markdown",
   "metadata": {
    "colab_type": "text",
    "deletable": false,
    "editable": false,
    "id": "JlcXn0StlNL8",
    "nbgrader": {
     "grade": false,
     "locked": true,
     "solution": false
    }
   },
   "source": [
    "### Problem 5.13a  ```replace_values(ls, value1, value2)```"
   ]
  },
  {
   "cell_type": "markdown",
   "metadata": {
    "colab_type": "text",
    "deletable": false,
    "editable": false,
    "id": "tYLYZPx75LRS",
    "nbgrader": {
     "grade": false,
     "locked": true,
     "solution": false
    }
   },
   "source": [
    "The parameter ```ls``` is a list of integers. ```value1``` and ```value2``` are integers. \n",
    "\n",
    "This function replaces all instances of ```value1``` in ```ls``` with ```value2```. \n",
    "\n",
    "<b><font color=\"red\"> ```ls``` is modified in-place. </font></b>\n",
    "\n",
    "If there are no instances of ```value1``` in ```ls```, then ```ls``` remains unmodified. \n",
    "\n",
    "\n",
    "**sample test cases**\n",
    "```python\n",
    "ls1 = [3, 9, 5, 10, 2, 4, 10, 3]\n",
    "value1 = 3\n",
    "value2 = 12\n",
    "replace_values(ls1, value1, value2)\n",
    "print(ls1)\n",
    "\n",
    "ls2 = [4, 9, 5, 10, 2, 4, 10, 4]\n",
    "value1 = 3\n",
    "value2 = 12\n",
    "replace_values(ls2, value1, value2)\n",
    "print(ls2)\n",
    "```\n",
    "\n",
    "**expected output**\n",
    "```python\n",
    "[12, 9, 5, 10, 2, 4, 10, 12]\n",
    "[4, 9, 5, 10, 2, 4, 10, 4]\n",
    "```\n"
   ]
  },
  {
   "cell_type": "markdown",
   "metadata": {
    "deletable": false,
    "editable": false,
    "nbgrader": {
     "grade": false,
     "locked": true,
     "solution": false
    }
   },
   "source": [
    "#### Your solution here: "
   ]
  },
  {
   "cell_type": "code",
   "execution_count": 25,
   "metadata": {},
   "outputs": [
    {
     "name": "stdout",
     "output_type": "stream",
     "text": [
      "[4, 9, 5, 10, 2, 4, 10, 4]\n"
     ]
    }
   ],
   "source": [
    "def replace_values(ls,value1,value2):\n",
    "    for i in range(len(ls)):\n",
    "        if ls[i] == value1:\n",
    "            ls[i] = value2\n",
    "    return ls"
   ]
  },
  {
   "cell_type": "code",
   "execution_count": null,
   "metadata": {
    "collapsed": true,
    "deletable": false,
    "editable": false,
    "nbgrader": {
     "grade": true,
     "grade_id": "5.13test1",
     "locked": true,
     "points": "1",
     "solution": false
    }
   },
   "outputs": [],
   "source": [
    "###\n",
    "### AUTOGRADER TEST - DO NOT REMOVE\n",
    "###\n"
   ]
  },
  {
   "cell_type": "code",
   "execution_count": null,
   "metadata": {
    "collapsed": true,
    "deletable": false,
    "editable": false,
    "nbgrader": {
     "grade": true,
     "grade_id": "5.13test2",
     "locked": true,
     "points": "1",
     "solution": false
    }
   },
   "outputs": [],
   "source": [
    "###\n",
    "### AUTOGRADER TEST - DO NOT REMOVE\n",
    "###\n"
   ]
  },
  {
   "cell_type": "markdown",
   "metadata": {
    "colab_type": "text",
    "deletable": false,
    "editable": false,
    "id": "JlcXn0StlNL8",
    "nbgrader": {
     "grade": false,
     "locked": true,
     "solution": false
    }
   },
   "source": [
    "### Problem 5.13b  ```replace_values_new(ls, value1, value2)```"
   ]
  },
  {
   "cell_type": "markdown",
   "metadata": {
    "colab_type": "text",
    "deletable": false,
    "editable": false,
    "id": "tYLYZPx75LRS",
    "nbgrader": {
     "grade": false,
     "locked": true,
     "solution": false
    }
   },
   "source": [
    "The parameter ```ls``` is a list of integers. ```value1``` and ```value2``` are integers. \n",
    "\n",
    "<b><font color=\"red\">This function returns a copy of ```ls``` </font></b> where all instances of ```value1``` are replaced  with ```value2```. \n",
    "\n",
    "If there are no instances of ```value1``` in ```ls```, then the copy of ```ls``` that is returned remains unmodified.\n",
    "\n",
    "\n",
    "**sample test cases**\n",
    "```python\n",
    "ls1 = [3, 9, 5, 10, 2, 4, 10, 3]\n",
    "ls2 = replace_values_new(ls1, 3, 12)\n",
    "print(\"ls1\", ls1)\n",
    "print(\"ls2\", ls2)\n",
    "\n",
    "ls3 = [4, 9, 5, 10, 2, 4, 10, 4]\n",
    "ls4 = replace_values_new(ls3, 3, 12)\n",
    "print(\"ls3\", ls3)\n",
    "print(\"ls4\", ls4)\n",
    "```\n",
    "\n",
    "**expected output**\n",
    "```python\n",
    "ls1 [3, 9, 5, 10, 2, 4, 10, 3]\n",
    "ls2 [12, 9, 5, 10, 2, 4, 10, 12]\n",
    "ls3 [4, 9, 5, 10, 2, 4, 10, 4]\n",
    "ls4 [4, 9, 5, 10, 2, 4, 10, 4]\n",
    "```\n"
   ]
  },
  {
   "cell_type": "markdown",
   "metadata": {
    "deletable": false,
    "editable": false,
    "nbgrader": {
     "grade": false,
     "locked": true,
     "solution": false
    }
   },
   "source": [
    "#### Your solution here: "
   ]
  },
  {
   "cell_type": "code",
   "execution_count": 26,
   "metadata": {},
   "outputs": [
    {
     "name": "stdout",
     "output_type": "stream",
     "text": [
      "ls1 [3, 9, 5, 10, 2, 4, 10, 3]\n",
      "ls2 [12, 9, 5, 10, 2, 4, 10, 12]\n",
      "ls3 [4, 9, 5, 10, 2, 4, 10, 4]\n",
      "ls4 [4, 9, 5, 10, 2, 4, 10, 4]\n"
     ]
    }
   ],
   "source": [
    "def replace_values(ls,value1,value2):\n",
    "    for i in range(len(ls)):\n",
    "        if ls[i] == value1:\n",
    "            ls[i] = value2\n",
    "    return ls\n",
    "\n",
    "def replace_values_new(ls,value1,value2):\n",
    "    ls_copy = ls.copy()\n",
    "    replace_values(ls_copy,value1,value2)\n",
    "    return ls_copy"
   ]
  },
  {
   "cell_type": "code",
   "execution_count": null,
   "metadata": {
    "collapsed": true,
    "deletable": false,
    "editable": false,
    "nbgrader": {
     "grade": true,
     "grade_id": "5.13test3",
     "locked": true,
     "points": "1",
     "solution": false
    }
   },
   "outputs": [],
   "source": [
    "###\n",
    "### AUTOGRADER TEST - DO NOT REMOVE\n",
    "###\n"
   ]
  },
  {
   "cell_type": "code",
   "execution_count": null,
   "metadata": {
    "collapsed": true,
    "deletable": false,
    "editable": false,
    "nbgrader": {
     "grade": true,
     "grade_id": "5.13test4",
     "locked": true,
     "points": "1",
     "solution": false
    }
   },
   "outputs": [],
   "source": [
    "###\n",
    "### AUTOGRADER TEST - DO NOT REMOVE\n",
    "###\n"
   ]
  },
  {
   "cell_type": "markdown",
   "metadata": {},
   "source": [
    "### Problem 5.14 ```reflect_triangle( dd, point)```"
   ]
  },
  {
   "cell_type": "markdown",
   "metadata": {},
   "source": [
    "A dictionary ```dd``` has the following format: \n",
    "\n",
    "```python\n",
    "dd = {'A': (1,2), 'B': (-3,4), 'C': (-1,2)}\n",
    "```\n",
    "\n",
    "Each key-value pair represents a point in 2-D space. The key is the label of the point, and the associated value is a tuple containing the coordinates of the point. In this question, you are guaranteed that the keys are always ```'A', 'B', 'C'```. \n",
    "\n",
    "This function takes in ```dd```, which represents the vertices in a triangle. Assume that the points are not collinear, and there are always three key-value pairs in the dictionary.\n",
    "\n",
    "This function also takes in ```point```, which is a key in ```dd```. \n",
    "\n",
    "Suppose ```point``` is ```'B'```. This function returns a **new dictionary** where the coordinates of point ```B``` are modified such that it is reflected about the line passing through the other vertices ```AC```. \n",
    "\n",
    "Test case\n",
    "\n",
    "```python\n",
    "dd = {'A': (1,2), 'B': (-3,4), 'C': (-1,2)}\n",
    "d_new = reflect_triangle(dd, 'B')\n",
    "print(d_new)\n",
    "```\n",
    "\n",
    "```\n",
    "{'A': (1,2), 'B': (-3.0,0.0), 'C': (-1,2)}\n",
    "```\n",
    "Please note that it is possible for ```'A'``` or ```'C'``` to be passed as the second argument, so please come up with your own test cases. \n",
    "\n",
    "You'll need the following mathematics. \n",
    "\n",
    "1. The equation of the line $ay + bx + c = 0$ passing through $(x_1, y_1)$ and $(x_2, y_2)$ is given by \n",
    "\\begin{eqnarray}\n",
    "\\Delta x &=& x_2 - x_1 \\\\\n",
    "\\Delta y &=& y_2 - y_1 \\\\\n",
    "a &=& \\Delta x \\\\\n",
    "b &=& - \\Delta y \\\\\n",
    "c &=& x_1 \\Delta y - y_1 \\Delta x \n",
    "\\end{eqnarray}<br> \n",
    "Note that the equation of any given line is not unique e.g. $2y - 4 = 0$ and $y - 2 = 0$ are the same line. <br><br>\n",
    "\n",
    "2. The reflection of the point $(p,q)$ about the line $ay + bx + c = 0$ is given by \n",
    "\\begin{eqnarray}\n",
    "p'&=& \\frac{p(a^2 - b^2) - 2b(aq + c)}{a^2 + b^2} \\\\\n",
    "q'&=& \\frac{q(b^2 - a^2) - 2a(bp + c)}{a^2 + b^2} \\\\\n",
    "\\end{eqnarray}\n",
    "[(source)](https://math.stackexchange.com/questions/1013230/how-to-find-coordinates-of-reflected-point)\n",
    "\n",
    "\n",
    "Thus to solve this problem, you need to break the problem into smaller parts, which is the idea of **modularity**. \n",
    "- Write the following functions \n",
    "- test each of them separately to make sure they return the correct value\n",
    "- you can then use these functions in writing ```reflect_triangle()``` to solve the problem. \n",
    "\n",
    "1. ```def equation_of_line(point1,point2)``` This function takes in two-element tuples ```point1``` and ```point2``` that represents two points in 2D space. <font color=\"blue\"> ```point1``` is a tuple that contains the coordinates $(x_1, y_1)$ and ```point2``` is a tuple that contains the coordinates $(x_2, y_2)$. </font> It returns a three-element tuple whose elements are ```(a, b, c)```, which are the coefficients of the equation of line $ay + bx + c = 0$. <br>\n",
    "<br>Test case: ```equation_of_line( (1, 2), (-1, 2))``` returns <del> ``` (2, 0, -4)```</del> ```(-2, 0, 4)```. <br>Note that this test case is not sufficient. Come up with your own test cases e.g. what points pass through $y - x + 1 =0$? <br><br>\n",
    "\n",
    "2. ```def reflect( point , equation)``` This function takes in ```point``` which is the point to be reflected about the line represented by ```equation``` . ```point``` is a two-element tuple that represents a point in 2D space. ```equation``` is the tuple returned by ```equation_of_line()``` . <br> It returns a 2-element tuple that containts the coordinates of the reflected point. <br> <br> Test case: ```reflect( (-3, 4) , (2, 0, -4) )``` returns ```(-3.0, 0.0)```. <br> Note that this test case is not sufficient. Come up with your own test cases e.g. what is the reflection of $(1,1)$ about $y - x + 1 =0$? \n"
   ]
  },
  {
   "cell_type": "code",
   "execution_count": 90,
   "metadata": {},
   "outputs": [
    {
     "name": "stdout",
     "output_type": "stream",
     "text": [
      "{'A': (1, 2), 'B': (-3.0, 0.0), 'C': (-1, 2)}\n"
     ]
    }
   ],
   "source": [
    "def equation_of_line( point1, point2 ):\n",
    "    xdelta = point2[0] - point1[0]\n",
    "    ydelta = point2[1] - point1[1]\n",
    "    a = xdelta\n",
    "    b = -(ydelta)\n",
    "    c = point1[0]*ydelta - point1[1]*xdelta\n",
    "    return a,b,c\n",
    "\n",
    "def reflect( point, eqn ):\n",
    "    a = eqn[0]\n",
    "    b = eqn[1]\n",
    "    c = eqn[2]\n",
    "    r_p = ((point[0]*(a**2-b**2))-2*b*((a*point[1])+c))/(a**2+b**2)\n",
    "    r_q = ((point[1]*(b**2-a**2))-2*a*((b*point[0])+c))/(a**2+b**2)\n",
    "    reflected_point = (r_p,r_q)\n",
    "    return reflected_point\n",
    "\n",
    "def reflect_triangle(dd,letter):\n",
    "    dd_copy = dd.copy()\n",
    "    if letter in dd_copy:\n",
    "        del dd_copy[letter]\n",
    "    point1 = list(dd_copy.values())[0]\n",
    "    point2 = list(dd_copy.values())[1]\n",
    "    eqn = equation_of_line(point1, point2 )\n",
    "    dd_copy2 = dd.copy()\n",
    "    if letter in dd_copy2:\n",
    "        r = reflect(dd_copy2[letter],eqn)\n",
    "        dd_copy2[letter] = r\n",
    "    return dd_copy2"
   ]
  },
  {
   "cell_type": "code",
   "execution_count": 66,
   "metadata": {
    "collapsed": true,
    "deletable": false,
    "editable": false,
    "nbgrader": {
     "grade": true,
     "grade_id": "5.14test1",
     "locked": true,
     "points": "1",
     "solution": false
    }
   },
   "outputs": [],
   "source": [
    "###\n",
    "### AUTOGRADER TEST - DO NOT REMOVE\n",
    "###\n"
   ]
  },
  {
   "cell_type": "code",
   "execution_count": null,
   "metadata": {
    "collapsed": true,
    "deletable": false,
    "editable": false,
    "nbgrader": {
     "grade": true,
     "grade_id": "5.14test2",
     "locked": true,
     "points": "1",
     "solution": false
    }
   },
   "outputs": [],
   "source": [
    "###\n",
    "### AUTOGRADER TEST - DO NOT REMOVE\n",
    "###\n"
   ]
  },
  {
   "cell_type": "code",
   "execution_count": null,
   "metadata": {
    "collapsed": true,
    "deletable": false,
    "editable": false,
    "nbgrader": {
     "grade": true,
     "grade_id": "5.14test3",
     "locked": true,
     "points": "1",
     "solution": false
    }
   },
   "outputs": [],
   "source": [
    "###\n",
    "### AUTOGRADER TEST - DO NOT REMOVE\n",
    "###\n"
   ]
  },
  {
   "cell_type": "code",
   "execution_count": null,
   "metadata": {
    "collapsed": true,
    "deletable": false,
    "editable": false,
    "nbgrader": {
     "grade": true,
     "grade_id": "5.14test4",
     "locked": true,
     "points": "1",
     "solution": false
    }
   },
   "outputs": [],
   "source": [
    "###\n",
    "### AUTOGRADER TEST - DO NOT REMOVE\n",
    "###\n"
   ]
  },
  {
   "cell_type": "code",
   "execution_count": null,
   "metadata": {
    "collapsed": true,
    "deletable": false,
    "editable": false,
    "nbgrader": {
     "grade": true,
     "grade_id": "5.14test5",
     "locked": true,
     "points": "1",
     "solution": false
    }
   },
   "outputs": [],
   "source": [
    "###\n",
    "### AUTOGRADER TEST - DO NOT REMOVE\n",
    "###\n"
   ]
  },
  {
   "cell_type": "code",
   "execution_count": null,
   "metadata": {
    "collapsed": true,
    "deletable": false,
    "editable": false,
    "nbgrader": {
     "grade": true,
     "grade_id": "5.14test6",
     "locked": true,
     "points": "1",
     "solution": false
    }
   },
   "outputs": [],
   "source": [
    "###\n",
    "### AUTOGRADER TEST - DO NOT REMOVE\n",
    "###\n"
   ]
  },
  {
   "cell_type": "code",
   "execution_count": null,
   "metadata": {
    "collapsed": true,
    "deletable": false,
    "editable": false,
    "nbgrader": {
     "grade": true,
     "grade_id": "5.14test7",
     "locked": true,
     "points": "1",
     "solution": false
    }
   },
   "outputs": [],
   "source": [
    "###\n",
    "### AUTOGRADER TEST - DO NOT REMOVE\n",
    "###\n"
   ]
  },
  {
   "cell_type": "code",
   "execution_count": null,
   "metadata": {
    "collapsed": true,
    "deletable": false,
    "editable": false,
    "nbgrader": {
     "grade": true,
     "grade_id": "5.14test8",
     "locked": true,
     "points": "1",
     "solution": false
    }
   },
   "outputs": [],
   "source": [
    "###\n",
    "### AUTOGRADER TEST - DO NOT REMOVE\n",
    "###\n"
   ]
  },
  {
   "cell_type": "code",
   "execution_count": null,
   "metadata": {
    "collapsed": true,
    "deletable": false,
    "editable": false,
    "nbgrader": {
     "grade": true,
     "grade_id": "5.14test9",
     "locked": true,
     "points": "1",
     "solution": false
    }
   },
   "outputs": [],
   "source": [
    "###\n",
    "### AUTOGRADER TEST - DO NOT REMOVE\n",
    "###\n"
   ]
  },
  {
   "cell_type": "code",
   "execution_count": null,
   "metadata": {
    "collapsed": true,
    "deletable": false,
    "editable": false,
    "nbgrader": {
     "grade": false,
     "locked": true,
     "solution": false
    }
   },
   "outputs": [],
   "source": []
  },
  {
   "cell_type": "code",
   "execution_count": null,
   "metadata": {
    "collapsed": true,
    "deletable": false,
    "editable": false,
    "nbgrader": {
     "grade": false,
     "locked": true,
     "solution": false
    }
   },
   "outputs": [],
   "source": []
  }
 ],
 "metadata": {
  "colab": {
   "name": "Lesson 5.ipynb",
   "provenance": []
  },
  "kernelspec": {
   "display_name": "Python 3 [3.7]",
   "language": "python",
   "name": "python3"
  },
  "language_info": {
   "codemirror_mode": {
    "name": "ipython",
    "version": 3
   },
   "file_extension": ".py",
   "mimetype": "text/x-python",
   "name": "python",
   "nbconvert_exporter": "python",
   "pygments_lexer": "ipython3",
   "version": "3.7.5"
  }
 },
 "nbformat": 4,
 "nbformat_minor": 1
}
